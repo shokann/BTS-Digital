{
  "nbformat": 4,
  "nbformat_minor": 0,
  "metadata": {
    "colab": {
      "name": "Untitled",
      "version": "0.3.2",
      "provenance": []
    },
    "kernelspec": {
      "name": "python3",
      "display_name": "Python 3"
    }
  },
  "cells": [
    {
      "cell_type": "markdown",
      "metadata": {
        "id": "9YpVT5A4aci0",
        "colab_type": "text"
      },
      "source": [
        "**1.Download and read the data**\n"
      ]
    },
    {
      "cell_type": "code",
      "metadata": {
        "id": "VS75LbXBasRY",
        "colab_type": "code",
        "colab": {}
      },
      "source": [
        "import numpy as np\n",
        "import pandas as pd\n",
        "\n",
        "import tensorflow as tf\n",
        "(X_train, y_train), (X_test, y_test) = tf.keras.datasets.mnist.load_data()"
      ],
      "execution_count": 0,
      "outputs": []
    },
    {
      "cell_type": "code",
      "metadata": {
        "id": "PLQcU02jaYaM",
        "colab_type": "code",
        "colab": {
          "base_uri": "https://localhost:8080/",
          "height": 34
        },
        "outputId": "9ab8971d-b5c2-42b5-974e-e1b7198e1048"
      },
      "source": [
        "print(X_train.shape, y_train.shape, X_test.shape, y_test.shape)"
      ],
      "execution_count": 2,
      "outputs": [
        {
          "output_type": "stream",
          "text": [
            "(60000, 28, 28) (60000,) (10000, 28, 28) (10000,)\n"
          ],
          "name": "stdout"
        }
      ]
    },
    {
      "cell_type": "code",
      "metadata": {
        "id": "QfTDEljNabFk",
        "colab_type": "code",
        "colab": {
          "base_uri": "https://localhost:8080/",
          "height": 274
        },
        "outputId": "cc186793-7465-4edc-f3db-431af6e69fc8"
      },
      "source": [
        "import seaborn as sns\n",
        "sns.set(style='ticks')\n",
        "g = sns.countplot(y_train)"
      ],
      "execution_count": 3,
      "outputs": [
        {
          "output_type": "display_data",
          "data": {
            "image/png": "[encoded data removed]",
            "text/plain": [
              "<Figure size 432x288 with 1 Axes>"
            ]
          },
          "metadata": {
            "tags": []
          }
        }
      ]
    },
    {
      "cell_type": "code",
      "metadata": {
        "id": "Pu-9lQVbhwHR",
        "colab_type": "code",
        "colab": {
          "base_uri": "https://localhost:8080/",
          "height": 34
        },
        "outputId": "3b567175-3f10-46af-be30-4d5e0e77737f"
      },
      "source": [
        "#Normalization\n",
        "X_train = X_train / 255.0\n",
        "X_test = X_test / 255.0\n",
        "X_train = X_train.reshape(-1, 28*28)\n",
        "X_test = X_test.reshape(-1, 28*28)\n",
        "print(X_train.shape)\n",
        "\n",
        "from sklearn.preprocessing import MinMaxScaler\n",
        "scaler = MinMaxScaler()\n",
        "X_train = scaler.fit_transform(X_train)\n",
        "X_test = scaler.transform(X_test)"
      ],
      "execution_count": 4,
      "outputs": [
        {
          "output_type": "stream",
          "text": [
            "(60000, 784)\n"
          ],
          "name": "stdout"
        }
      ]
    },
    {
      "cell_type": "code",
      "metadata": {
        "id": "482mwt8qjl2B",
        "colab_type": "code",
        "colab": {}
      },
      "source": [
        "# Reshape\n",
        "X_train = X_train.reshape(-1, 28, 28, 1)\n",
        "X_test = X_test.reshape(-1, 28, 28,1)"
      ],
      "execution_count": 0,
      "outputs": []
    },
    {
      "cell_type": "code",
      "metadata": {
        "id": "qFfpM1aejy12",
        "colab_type": "code",
        "colab": {
          "base_uri": "https://localhost:8080/",
          "height": 34
        },
        "outputId": "333bd2b0-f035-4274-8d94-0bf42225de09"
      },
      "source": [
        "# One-hot encoding\n",
        "from keras.utils import to_categorical\n",
        "y_train_oneHot = to_categorical(y_train, num_classes= 10)\n",
        "y_test_oneHot = to_categorical(y_test, num_classes=10)"
      ],
      "execution_count": 6,
      "outputs": [
        {
          "output_type": "stream",
          "text": [
            "Using TensorFlow backend.\n"
          ],
          "name": "stderr"
        }
      ]
    },
    {
      "cell_type": "code",
      "metadata": {
        "id": "jlRBkJO6lByo",
        "colab_type": "code",
        "colab": {
          "base_uri": "https://localhost:8080/",
          "height": 291
        },
        "outputId": "1444f1f8-5dfe-4a86-c02a-6d39427b3c8c"
      },
      "source": [
        "import matplotlib.pyplot as plt\n",
        "plt.imshow(X_train[1][:, :, 0])"
      ],
      "execution_count": 7,
      "outputs": [
        {
          "output_type": "execute_result",
          "data": {
            "text/plain": [
              "<matplotlib.image.AxesImage at 0x7f22e745ccc0>"
            ]
          },
          "metadata": {
            "tags": []
          },
          "execution_count": 7
        },
        {
          "output_type": "display_data",
          "data": {
            "image/png": "[encoded data removed]",
            "text/plain": [
              "<Figure size 432x288 with 1 Axes>"
            ]
          },
          "metadata": {
            "tags": []
          }
        }
      ]
    },
    {
      "cell_type": "markdown",
      "metadata": {
        "id": "W3_i20Gxpk1o",
        "colab_type": "text"
      },
      "source": [
        "**3. Implement a Neural Network which classifies given images. - 10 points**"
      ]
    },
    {
      "cell_type": "code",
      "metadata": {
        "id": "b1UROFT0lFih",
        "colab_type": "code",
        "colab": {
          "base_uri": "https://localhost:8080/",
          "height": 686
        },
        "outputId": "000c02d8-be8b-46b7-8edd-0a3fe6be79cc"
      },
      "source": [
        "from keras.layers import Convolution2D, Dense, MaxPooling2D, Dropout, Flatten\n",
        "from keras.models import Sequential\n",
        "\n",
        "model = Sequential()\n",
        "model.add(Convolution2D(filters=32, kernel_size=(5, 5), padding='same', input_shape = (28, 28, 1), activation='relu'))\n",
        "model.add(Convolution2D(filters=32, kernel_size=(5, 5), padding='same', activation='relu'))       \n",
        "model.add(MaxPooling2D(pool_size=(2, 2)))\n",
        "model.add(Dropout(0.3))\n",
        "\n",
        "model.add(Convolution2D(filters=64, kernel_size=(5, 5), padding='same', activation='relu'))       \n",
        "model.add(Convolution2D(filters=64, kernel_size=(5, 5), padding='same', activation='relu'))       \n",
        "model.add(MaxPooling2D(pool_size=(2, 2)))\n",
        "model.add(Dropout(0.3))\n",
        "\n",
        "model.add(Flatten())\n",
        "\n",
        "model.add(Dense(units=256, activation='relu',))\n",
        "model.add(Dropout(0.3))\n",
        "model.add(Dense(units=10, activation='softmax'))\n",
        "\n",
        "model.summary()"
      ],
      "execution_count": 8,
      "outputs": [
        {
          "output_type": "stream",
          "text": [
            "WARNING:tensorflow:From /usr/local/lib/python3.6/dist-packages/tensorflow/python/framework/op_def_library.py:263: colocate_with (from tensorflow.python.framework.ops) is deprecated and will be removed in a future version.\n",
            "Instructions for updating:\n",
            "Colocations handled automatically by placer.\n",
            "WARNING:tensorflow:From /usr/local/lib/python3.6/dist-packages/keras/backend/tensorflow_backend.py:3445: calling dropout (from tensorflow.python.ops.nn_ops) with keep_prob is deprecated and will be removed in a future version.\n",
            "Instructions for updating:\n",
            "Please use `rate` instead of `keep_prob`. Rate should be set to `rate = 1 - keep_prob`.\n",
            "_________________________________________________________________\n",
            "Layer (type)                 Output Shape              Param #   \n",
            "=================================================================\n",
            "conv2d_1 (Conv2D)            (None, 28, 28, 32)        832       \n",
            "_________________________________________________________________\n",
            "conv2d_2 (Conv2D)            (None, 28, 28, 32)        25632     \n",
            "_________________________________________________________________\n",
            "max_pooling2d_1 (MaxPooling2 (None, 14, 14, 32)        0         \n",
            "_________________________________________________________________\n",
            "dropout_1 (Dropout)          (None, 14, 14, 32)        0         \n",
            "_________________________________________________________________\n",
            "conv2d_3 (Conv2D)            (None, 14, 14, 64)        51264     \n",
            "_________________________________________________________________\n",
            "conv2d_4 (Conv2D)            (None, 14, 14, 64)        102464    \n",
            "_________________________________________________________________\n",
            "max_pooling2d_2 (MaxPooling2 (None, 7, 7, 64)          0         \n",
            "_________________________________________________________________\n",
            "dropout_2 (Dropout)          (None, 7, 7, 64)          0         \n",
            "_________________________________________________________________\n",
            "flatten_1 (Flatten)          (None, 3136)              0         \n",
            "_________________________________________________________________\n",
            "dense_1 (Dense)              (None, 256)               803072    \n",
            "_________________________________________________________________\n",
            "dropout_3 (Dropout)          (None, 256)               0         \n",
            "_________________________________________________________________\n",
            "dense_2 (Dense)              (None, 10)                2570      \n",
            "=================================================================\n",
            "Total params: 985,834\n",
            "Trainable params: 985,834\n",
            "Non-trainable params: 0\n",
            "_________________________________________________________________\n"
          ],
          "name": "stdout"
        }
      ]
    },
    {
      "cell_type": "code",
      "metadata": {
        "id": "Gx4jOg-MlOdl",
        "colab_type": "code",
        "colab": {}
      },
      "source": [
        "model.compile(optimizer='RMSprop', loss = 'categorical_crossentropy', metrics=['accuracy'])"
      ],
      "execution_count": 0,
      "outputs": []
    },
    {
      "cell_type": "markdown",
      "metadata": {
        "id": "4x4DggIKp3DE",
        "colab_type": "text"
      },
      "source": [
        "**2. Show how you use augmentation functions.- 10 points**"
      ]
    },
    {
      "cell_type": "code",
      "metadata": {
        "id": "xuZwDQ86ldLl",
        "colab_type": "code",
        "colab": {}
      },
      "source": [
        "from keras.preprocessing.image import ImageDataGenerator\n",
        "\n",
        "datagen = ImageDataGenerator(\n",
        "        featurewise_center=False,\n",
        "        samplewise_center=False,\n",
        "        featurewise_std_normalization=False,\n",
        "        samplewise_std_normalization=False,\n",
        "        zca_whitening=False,\n",
        "        rotation_range=10,\n",
        "        zoom_range = 0.1,\n",
        "        width_shift_range=0.1,\n",
        "        height_shift_range=0.1,\n",
        "        horizontal_flip=False, \n",
        "        vertical_flip=False)\n",
        "datagen.fit(X_train)\n",
        "\n"
      ],
      "execution_count": 0,
      "outputs": []
    },
    {
      "cell_type": "code",
      "metadata": {
        "id": "n5MKGGYEm2lb",
        "colab_type": "code",
        "colab": {}
      },
      "source": [
        "from keras.callbacks import ReduceLROnPlateau\n",
        "\n",
        "learning_rate_reduction = ReduceLROnPlateau(monitor='val_acc', \n",
        "                                            patience=3, \n",
        "                                            verbose=1, \n",
        "                                            factor=0.5, \n",
        "                                            min_lr=0.000001)"
      ],
      "execution_count": 0,
      "outputs": []
    },
    {
      "cell_type": "markdown",
      "metadata": {
        "id": "2TPoFvmPqJBp",
        "colab_type": "text"
      },
      "source": [
        "**4. Implement a training procedure - 10 points**"
      ]
    },
    {
      "cell_type": "code",
      "metadata": {
        "id": "7QmBoIqulkKY",
        "colab_type": "code",
        "colab": {
          "base_uri": "https://localhost:8080/",
          "height": 1020
        },
        "outputId": "d1487ea7-3994-419a-b808-88f9830902a9"
      },
      "source": [
        "# Fit the model\n",
        "history=model.fit_generator(datagen.flow(X_train, y_train_oneHot, batch_size=512),\n",
        "                              epochs = 4, validation_data=(X_test, y_test_oneHot),\n",
        "                              verbose = 1, steps_per_epoch=X_train.shape[0]/512, \n",
        "                              callbacks=[learning_rate_reduction])"
      ],
      "execution_count": 16,
      "outputs": [
        {
          "output_type": "stream",
          "text": [
            "WARNING:tensorflow:From /usr/local/lib/python3.6/dist-packages/tensorflow/python/ops/math_ops.py:3066: to_int32 (from tensorflow.python.ops.math_ops) is deprecated and will be removed in a future version.\n",
            "Instructions for updating:\n",
            "Use tf.cast instead.\n",
            "Epoch 1/4\n",
            "118/117 [==============================] - 629s 5s/step - loss: 0.6947 - acc: 0.7752 - val_loss: 0.0922 - val_acc: 0.9695\n",
            "Epoch 2/4\n",
            "118/117 [==============================] - 628s 5s/step - loss: 0.1338 - acc: 0.9586 - val_loss: 0.0722 - val_acc: 0.9777\n",
            "Epoch 3/4\n",
            "118/117 [==============================] - 628s 5s/step - loss: 0.0865 - acc: 0.9732 - val_loss: 0.0603 - val_acc: 0.9818\n",
            "Epoch 4/4\n",
            "118/117 [==============================] - 625s 5s/step - loss: 0.0637 - acc: 0.9802 - val_loss: 0.0393 - val_acc: 0.9869\n"
          ],
          "name": "stdout"
        }
      ]
    },
    {
      "cell_type": "markdown",
      "metadata": {
        "id": "pBus-QdCrNtC",
        "colab_type": "text"
      },
      "source": [
        "**5. Plot loss graph - 10 points**"
      ]
    },
    {
      "cell_type": "code",
      "metadata": {
        "id": "zHEOCxd0lovb",
        "colab_type": "code",
        "colab": {
          "base_uri": "https://localhost:8080/",
          "height": 291
        },
        "outputId": "30aa0673-4178-4952-df00-d2f3928ada13"
      },
      "source": [
        "fig, [ax, ax1] = plt.subplots(1, 2)\n",
        "fig.set_size_inches(12, 4)\n",
        "ax.plot(history.history['acc'], label='Train acc')\n",
        "ax.plot(history.history['val_acc'], label='Val acc')\n",
        "ax.legend(loc='best')\n",
        "\n",
        "ax1.plot(history.history['loss'], label='Train loss')\n",
        "ax1.plot(history.history['val_loss'], label='Val loss')\n",
        "ax1.legend(loc='best')"
      ],
      "execution_count": 17,
      "outputs": [
        {
          "output_type": "execute_result",
          "data": {
            "text/plain": [
              "<matplotlib.legend.Legend at 0x7f22e63b62b0>"
            ]
          },
          "metadata": {
            "tags": []
          },
          "execution_count": 17
        },
        {
          "output_type": "display_data",
          "data": {
            "image/png": "[encoded data removed]",
            "text/plain": [
              "<Figure size 864x288 with 2 Axes>"
            ]
          },
          "metadata": {
            "tags": []
          }
        }
      ]
    },
    {
      "cell_type": "markdown",
      "metadata": {
        "id": "4wCxd_7wraSS",
        "colab_type": "text"
      },
      "source": [
        "**6.Print accuracy of your model on test set -  10 points**\n"
      ]
    },
    {
      "cell_type": "code",
      "metadata": {
        "id": "6fAZeZcwl4rH",
        "colab_type": "code",
        "colab": {
          "base_uri": "https://localhost:8080/",
          "height": 51
        },
        "outputId": "88292b43-60fb-48d3-dc2b-da48eb747ade"
      },
      "source": [
        "model.evaluate(X_test, y_test_oneHot)"
      ],
      "execution_count": 18,
      "outputs": [
        {
          "output_type": "stream",
          "text": [
            "10000/10000 [==============================] - 28s 3ms/step\n"
          ],
          "name": "stdout"
        },
        {
          "output_type": "execute_result",
          "data": {
            "text/plain": [
              "[0.03932605512430046, 0.9869]"
            ]
          },
          "metadata": {
            "tags": []
          },
          "execution_count": 18
        }
      ]
    },
    {
      "cell_type": "code",
      "metadata": {
        "id": "tVz0Eyug3cGb",
        "colab_type": "code",
        "colab": {}
      },
      "source": [
        ""
      ],
      "execution_count": 0,
      "outputs": []
    }
  ]
}